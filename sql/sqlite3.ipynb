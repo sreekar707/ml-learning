{
 "cells": [
  {
   "cell_type": "code",
   "execution_count": 92,
   "metadata": {},
   "outputs": [],
   "source": [
    "import sqlite3"
   ]
  },
  {
   "cell_type": "code",
   "execution_count": 93,
   "metadata": {},
   "outputs": [
    {
     "data": {
      "text/plain": [
       "<sqlite3.Connection at 0x16b15843840>"
      ]
     },
     "execution_count": 93,
     "metadata": {},
     "output_type": "execute_result"
    }
   ],
   "source": [
    "## connect to an sqlite databse\n",
    "connection=sqlite3.connect('example.db')\n",
    "connection"
   ]
  },
  {
   "cell_type": "code",
   "execution_count": 94,
   "metadata": {},
   "outputs": [],
   "source": [
    "cursor=connection.cursor()\n"
   ]
  },
  {
   "cell_type": "code",
   "execution_count": 95,
   "metadata": {},
   "outputs": [],
   "source": [
    "## create a table \n",
    "cursor.execute('''\n",
    "               Create Table if not exists employee(\n",
    "                   id integer Primary Key,\n",
    "                   name Text not null,\n",
    "                   age Integer,\n",
    "                   department text\n",
    "               ) \n",
    "               \n",
    "               \n",
    "               ''')\n",
    "### commi the changes\n",
    "connection.commit()"
   ]
  },
  {
   "cell_type": "code",
   "execution_count": 96,
   "metadata": {},
   "outputs": [],
   "source": [
    "## insert the data sqlitedb3\n",
    "\n",
    "cursor.execute('''\n",
    "               Insert into employee(name,age,department)\n",
    "               values('Sreekar',19,'Cybersecurity')\n",
    "               ''')\n",
    "\n",
    "cursor.execute('''\n",
    "               Insert into employee(name,age,department)\n",
    "               values('yaseen',19,'cse core')\n",
    "               ''')\n",
    "\n",
    "\n",
    "cursor.execute('''\n",
    "               Insert into employee(name,age,department)\n",
    "               values('sreerag',19,'Cybersecurity')\n",
    "               ''')\n",
    "\n",
    "cursor.execute('''\n",
    "               Insert into employee(name,age,department)\n",
    "               values('hidash',19,'Cybersecurity')\n",
    "               ''')\n",
    "\n",
    "\n",
    "\n",
    "### commit the changes\n",
    "connection.commit()"
   ]
  },
  {
   "cell_type": "code",
   "execution_count": 106,
   "metadata": {},
   "outputs": [
    {
     "name": "stdout",
     "output_type": "stream",
     "text": [
      "(1, 'Sreekar', 19, 'Cybersecurity')\n",
      "(3, 'sreerag', 19, 'Cybersecurity')\n",
      "(4, 'hidash', 19, 'Cybersecurity')\n",
      "(5, 'Sreekar', 19, 'Cybersecurity')\n",
      "(7, 'sreerag', 19, 'Cybersecurity')\n",
      "(8, 'hidash', 19, 'Cybersecurity')\n",
      "(9, 'Sreekar', 19, 'Cybersecurity')\n",
      "(11, 'sreerag', 19, 'Cybersecurity')\n",
      "(12, 'hidash', 19, 'Cybersecurity')\n"
     ]
    }
   ],
   "source": [
    "### queryimg the data from the table itself\n",
    "cursor.execute('Select * from employee ') \n",
    "rows=cursor.fetchall()\n",
    "\n",
    "for row in rows:\n",
    "    print(row)"
   ]
  },
  {
   "cell_type": "code",
   "execution_count": 104,
   "metadata": {},
   "outputs": [],
   "source": [
    "### update the data in the table\n",
    "\n",
    "cursor.execute('''\n",
    "               Update employee\n",
    "               Set age=24 where name =\"yaseen\"\n",
    "               ''')\n",
    "connection.commit()\n",
    "\n",
    "# connection.close()"
   ]
  },
  {
   "cell_type": "code",
   "execution_count": 103,
   "metadata": {},
   "outputs": [],
   "source": [
    "### delete from table\n",
    "cursor.execute('''\n",
    "               DELETE from employee where name=\"yaseen\"\n",
    "               ''')\n",
    "connection.commit()\n",
    "\n",
    "\n",
    "\n"
   ]
  },
  {
   "cell_type": "code",
   "execution_count": null,
   "metadata": {},
   "outputs": [],
   "source": [
    "##### sales data\n"
   ]
  },
  {
   "cell_type": "markdown",
   "metadata": {},
   "source": []
  },
  {
   "cell_type": "markdown",
   "metadata": {},
   "source": []
  },
  {
   "cell_type": "code",
   "execution_count": null,
   "metadata": {},
   "outputs": [],
   "source": []
  }
 ],
 "metadata": {
  "kernelspec": {
   "display_name": "Python 3",
   "language": "python",
   "name": "python3"
  },
  "language_info": {
   "codemirror_mode": {
    "name": "ipython",
    "version": 3
   },
   "file_extension": ".py",
   "mimetype": "text/x-python",
   "name": "python",
   "nbconvert_exporter": "python",
   "pygments_lexer": "ipython3",
   "version": "3.10.0"
  }
 },
 "nbformat": 4,
 "nbformat_minor": 2
}
