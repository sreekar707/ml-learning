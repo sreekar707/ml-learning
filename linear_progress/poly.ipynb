{
 "cells": [
  {
   "cell_type": "code",
   "execution_count": 21,
   "metadata": {},
   "outputs": [],
   "source": [
    "import numpy as np\n",
    "import pandas as pd\n",
    "import matplotlib.pyplot as plt\n",
    "%matplotlib inline"
   ]
  },
  {
   "cell_type": "code",
   "execution_count": 22,
   "metadata": {},
   "outputs": [
    {
     "data": {
      "text/plain": [
       "Text(0, 0.5, 'Y dataset')"
      ]
     },
     "execution_count": 22,
     "metadata": {},
     "output_type": "execute_result"
    },
    {
     "data": {
      "image/png": "[encoded data removed]",
      "text/plain": [
       "<Figure size 640x480 with 1 Axes>"
      ]
     },
     "metadata": {},
     "output_type": "display_data"
    }
   ],
   "source": [
    "\n",
    "x = 6 * np.random.rand(100, 1) - 3\n",
    "y =0.5 * x**2 + 1.5*x + 2 + np.random.randn(100, 1)\n",
    "# quadratic equation used- y=0.5x^2+1.5x+2+outliers\n",
    "plt.scatter(x,y,color='g')\n",
    "plt.xlabel('X dataset')\n",
    "plt.ylabel('Y dataset')"
   ]
  },
  {
   "cell_type": "code",
   "execution_count": 23,
   "metadata": {},
   "outputs": [],
   "source": [
    "from sklearn.model_selection import train_test_split\n",
    "x_train,x_test,y_train,y_test=train_test_split(x,y,test_size=0.5,random_state=42)"
   ]
  },
  {
   "cell_type": "code",
   "execution_count": 24,
   "metadata": {},
   "outputs": [],
   "source": [
    "## lets implement a simple linear regression\n",
    "from sklearn.linear_model import LinearRegression\n",
    "regression=LinearRegression()\n"
   ]
  },
  {
   "cell_type": "code",
   "execution_count": 25,
   "metadata": {},
   "outputs": [
    {
     "data": {
      "text/html": [
       "<style>#sk-container-id-2 {\n",
       "  /* Definition of color scheme common for light and dark mode */\n",
       "  --sklearn-color-text: black;\n",
       "  --sklearn-color-line: gray;\n",
       "  /* Definition of color scheme for unfitted estimators */\n",
       "  --sklearn-color-unfitted-level-0: #fff5e6;\n",
       "  --sklearn-color-unfitted-level-1: #f6e4d2;\n",
       "  --sklearn-color-unfitted-level-2: #ffe0b3;\n",
       "  --sklearn-color-unfitted-level-3: chocolate;\n",
       "  /* Definition of color scheme for fitted estimators */\n",
       "  --sklearn-color-fitted-level-0: #f0f8ff;\n",
       "  --sklearn-color-fitted-level-1: #d4ebff;\n",
       "  --sklearn-color-fitted-level-2: #b3dbfd;\n",
       "  --sklearn-color-fitted-level-3: cornflowerblue;\n",
       "\n",
       "  /* Specific color for light theme */\n",
       "  --sklearn-color-text-on-default-background: var(--sg-text-color, var(--theme-code-foreground, var(--jp-content-font-color1, black)));\n",
       "  --sklearn-color-background: var(--sg-background-color, var(--theme-background, var(--jp-layout-color0, white)));\n",
       "  --sklearn-color-border-box: var(--sg-text-color, var(--theme-code-foreground, var(--jp-content-font-color1, black)));\n",
       "  --sklearn-color-icon: #696969;\n",
       "\n",
       "  @media (prefers-color-scheme: dark) {\n",
       "    /* Redefinition of color scheme for dark theme */\n",
       "    --sklearn-color-text-on-default-background: var(--sg-text-color, var(--theme-code-foreground, var(--jp-content-font-color1, white)));\n",
       "    --sklearn-color-background: var(--sg-background-color, var(--theme-background, var(--jp-layout-color0, #111)));\n",
       "    --sklearn-color-border-box: var(--sg-text-color, var(--theme-code-foreground, var(--jp-content-font-color1, white)));\n",
       "    --sklearn-color-icon: #878787;\n",
       "  }\n",
       "}\n",
       "\n",
       "#sk-container-id-2 {\n",
       "  color: var(--sklearn-color-text);\n",
       "}\n",
       "\n",
       "#sk-container-id-2 pre {\n",
       "  padding: 0;\n",
       "}\n",
       "\n",
       "#sk-container-id-2 input.sk-hidden--visually {\n",
       "  border: 0;\n",
       "  clip: rect(1px 1px 1px 1px);\n",
       "  clip: rect(1px, 1px, 1px, 1px);\n",
       "  height: 1px;\n",
       "  margin: -1px;\n",
       "  overflow: hidden;\n",
       "  padding: 0;\n",
       "  position: absolute;\n",
       "  width: 1px;\n",
       "}\n",
       "\n",
       "#sk-container-id-2 div.sk-dashed-wrapped {\n",
       "  border: 1px dashed var(--sklearn-color-line);\n",
       "  margin: 0 0.4em 0.5em 0.4em;\n",
       "  box-sizing: border-box;\n",
       "  padding-bottom: 0.4em;\n",
       "  background-color: var(--sklearn-color-background);\n",
       "}\n",
       "\n",
       "#sk-container-id-2 div.sk-container {\n",
       "  /* jupyter's `normalize.less` sets `[hidden] { display: none; }`\n",
       "     but bootstrap.min.css set `[hidden] { display: none !important; }`\n",
       "     so we also need the `!important` here to be able to override the\n",
       "     default hidden behavior on the sphinx rendered scikit-learn.org.\n",
       "     See: https://github.com/scikit-learn/scikit-learn/issues/21755 */\n",
       "  display: inline-block !important;\n",
       "  position: relative;\n",
       "}\n",
       "\n",
       "#sk-container-id-2 div.sk-text-repr-fallback {\n",
       "  display: none;\n",
       "}\n",
       "\n",
       "div.sk-parallel-item,\n",
       "div.sk-serial,\n",
       "div.sk-item {\n",
       "  /* draw centered vertical line to link estimators */\n",
       "  background-image: linear-gradient(var(--sklearn-color-text-on-default-background), var(--sklearn-color-text-on-default-background));\n",
       "  background-size: 2px 100%;\n",
       "  background-repeat: no-repeat;\n",
       "  background-position: center center;\n",
       "}\n",
       "\n",
       "/* Parallel-specific style estimator block */\n",
       "\n",
       "#sk-container-id-2 div.sk-parallel-item::after {\n",
       "  content: \"\";\n",
       "  width: 100%;\n",
       "  border-bottom: 2px solid var(--sklearn-color-text-on-default-background);\n",
       "  flex-grow: 1;\n",
       "}\n",
       "\n",
       "#sk-container-id-2 div.sk-parallel {\n",
       "  display: flex;\n",
       "  align-items: stretch;\n",
       "  justify-content: center;\n",
       "  background-color: var(--sklearn-color-background);\n",
       "  position: relative;\n",
       "}\n",
       "\n",
       "#sk-container-id-2 div.sk-parallel-item {\n",
       "  display: flex;\n",
       "  flex-direction: column;\n",
       "}\n",
       "\n",
       "#sk-container-id-2 div.sk-parallel-item:first-child::after {\n",
       "  align-self: flex-end;\n",
       "  width: 50%;\n",
       "}\n",
       "\n",
       "#sk-container-id-2 div.sk-parallel-item:last-child::after {\n",
       "  align-self: flex-start;\n",
       "  width: 50%;\n",
       "}\n",
       "\n",
       "#sk-container-id-2 div.sk-parallel-item:only-child::after {\n",
       "  width: 0;\n",
       "}\n",
       "\n",
       "/* Serial-specific style estimator block */\n",
       "\n",
       "#sk-container-id-2 div.sk-serial {\n",
       "  display: flex;\n",
       "  flex-direction: column;\n",
       "  align-items: center;\n",
       "  background-color: var(--sklearn-color-background);\n",
       "  padding-right: 1em;\n",
       "  padding-left: 1em;\n",
       "}\n",
       "\n",
       "\n",
       "/* Toggleable style: style used for estimator/Pipeline/ColumnTransformer box that is\n",
       "clickable and can be expanded/collapsed.\n",
       "- Pipeline and ColumnTransformer use this feature and define the default style\n",
       "- Estimators will overwrite some part of the style using the `sk-estimator` class\n",
       "*/\n",
       "\n",
       "/* Pipeline and ColumnTransformer style (default) */\n",
       "\n",
       "#sk-container-id-2 div.sk-toggleable {\n",
       "  /* Default theme specific background. It is overwritten whether we have a\n",
       "  specific estimator or a Pipeline/ColumnTransformer */\n",
       "  background-color: var(--sklearn-color-background);\n",
       "}\n",
       "\n",
       "/* Toggleable label */\n",
       "#sk-container-id-2 label.sk-toggleable__label {\n",
       "  cursor: pointer;\n",
       "  display: block;\n",
       "  width: 100%;\n",
       "  margin-bottom: 0;\n",
       "  padding: 0.5em;\n",
       "  box-sizing: border-box;\n",
       "  text-align: center;\n",
       "}\n",
       "\n",
       "#sk-container-id-2 label.sk-toggleable__label-arrow:before {\n",
       "  /* Arrow on the left of the label */\n",
       "  content: \"▸\";\n",
       "  float: left;\n",
       "  margin-right: 0.25em;\n",
       "  color: var(--sklearn-color-icon);\n",
       "}\n",
       "\n",
       "#sk-container-id-2 label.sk-toggleable__label-arrow:hover:before {\n",
       "  color: var(--sklearn-color-text);\n",
       "}\n",
       "\n",
       "/* Toggleable content - dropdown */\n",
       "\n",
       "#sk-container-id-2 div.sk-toggleable__content {\n",
       "  max-height: 0;\n",
       "  max-width: 0;\n",
       "  overflow: hidden;\n",
       "  text-align: left;\n",
       "  /* unfitted */\n",
       "  background-color: var(--sklearn-color-unfitted-level-0);\n",
       "}\n",
       "\n",
       "#sk-container-id-2 div.sk-toggleable__content.fitted {\n",
       "  /* fitted */\n",
       "  background-color: var(--sklearn-color-fitted-level-0);\n",
       "}\n",
       "\n",
       "#sk-container-id-2 div.sk-toggleable__content pre {\n",
       "  margin: 0.2em;\n",
       "  border-radius: 0.25em;\n",
       "  color: var(--sklearn-color-text);\n",
       "  /* unfitted */\n",
       "  background-color: var(--sklearn-color-unfitted-level-0);\n",
       "}\n",
       "\n",
       "#sk-container-id-2 div.sk-toggleable__content.fitted pre {\n",
       "  /* unfitted */\n",
       "  background-color: var(--sklearn-color-fitted-level-0);\n",
       "}\n",
       "\n",
       "#sk-container-id-2 input.sk-toggleable__control:checked~div.sk-toggleable__content {\n",
       "  /* Expand drop-down */\n",
       "  max-height: 200px;\n",
       "  max-width: 100%;\n",
       "  overflow: auto;\n",
       "}\n",
       "\n",
       "#sk-container-id-2 input.sk-toggleable__control:checked~label.sk-toggleable__label-arrow:before {\n",
       "  content: \"▾\";\n",
       "}\n",
       "\n",
       "/* Pipeline/ColumnTransformer-specific style */\n",
       "\n",
       "#sk-container-id-2 div.sk-label input.sk-toggleable__control:checked~label.sk-toggleable__label {\n",
       "  color: var(--sklearn-color-text);\n",
       "  background-color: var(--sklearn-color-unfitted-level-2);\n",
       "}\n",
       "\n",
       "#sk-container-id-2 div.sk-label.fitted input.sk-toggleable__control:checked~label.sk-toggleable__label {\n",
       "  background-color: var(--sklearn-color-fitted-level-2);\n",
       "}\n",
       "\n",
       "/* Estimator-specific style */\n",
       "\n",
       "/* Colorize estimator box */\n",
       "#sk-container-id-2 div.sk-estimator input.sk-toggleable__control:checked~label.sk-toggleable__label {\n",
       "  /* unfitted */\n",
       "  background-color: var(--sklearn-color-unfitted-level-2);\n",
       "}\n",
       "\n",
       "#sk-container-id-2 div.sk-estimator.fitted input.sk-toggleable__control:checked~label.sk-toggleable__label {\n",
       "  /* fitted */\n",
       "  background-color: var(--sklearn-color-fitted-level-2);\n",
       "}\n",
       "\n",
       "#sk-container-id-2 div.sk-label label.sk-toggleable__label,\n",
       "#sk-container-id-2 div.sk-label label {\n",
       "  /* The background is the default theme color */\n",
       "  color: var(--sklearn-color-text-on-default-background);\n",
       "}\n",
       "\n",
       "/* On hover, darken the color of the background */\n",
       "#sk-container-id-2 div.sk-label:hover label.sk-toggleable__label {\n",
       "  color: var(--sklearn-color-text);\n",
       "  background-color: var(--sklearn-color-unfitted-level-2);\n",
       "}\n",
       "\n",
       "/* Label box, darken color on hover, fitted */\n",
       "#sk-container-id-2 div.sk-label.fitted:hover label.sk-toggleable__label.fitted {\n",
       "  color: var(--sklearn-color-text);\n",
       "  background-color: var(--sklearn-color-fitted-level-2);\n",
       "}\n",
       "\n",
       "/* Estimator label */\n",
       "\n",
       "#sk-container-id-2 div.sk-label label {\n",
       "  font-family: monospace;\n",
       "  font-weight: bold;\n",
       "  display: inline-block;\n",
       "  line-height: 1.2em;\n",
       "}\n",
       "\n",
       "#sk-container-id-2 div.sk-label-container {\n",
       "  text-align: center;\n",
       "}\n",
       "\n",
       "/* Estimator-specific */\n",
       "#sk-container-id-2 div.sk-estimator {\n",
       "  font-family: monospace;\n",
       "  border: 1px dotted var(--sklearn-color-border-box);\n",
       "  border-radius: 0.25em;\n",
       "  box-sizing: border-box;\n",
       "  margin-bottom: 0.5em;\n",
       "  /* unfitted */\n",
       "  background-color: var(--sklearn-color-unfitted-level-0);\n",
       "}\n",
       "\n",
       "#sk-container-id-2 div.sk-estimator.fitted {\n",
       "  /* fitted */\n",
       "  background-color: var(--sklearn-color-fitted-level-0);\n",
       "}\n",
       "\n",
       "/* on hover */\n",
       "#sk-container-id-2 div.sk-estimator:hover {\n",
       "  /* unfitted */\n",
       "  background-color: var(--sklearn-color-unfitted-level-2);\n",
       "}\n",
       "\n",
       "#sk-container-id-2 div.sk-estimator.fitted:hover {\n",
       "  /* fitted */\n",
       "  background-color: var(--sklearn-color-fitted-level-2);\n",
       "}\n",
       "\n",
       "/* Specification for estimator info (e.g. \"i\" and \"?\") */\n",
       "\n",
       "/* Common style for \"i\" and \"?\" */\n",
       "\n",
       ".sk-estimator-doc-link,\n",
       "a:link.sk-estimator-doc-link,\n",
       "a:visited.sk-estimator-doc-link {\n",
       "  float: right;\n",
       "  font-size: smaller;\n",
       "  line-height: 1em;\n",
       "  font-family: monospace;\n",
       "  background-color: var(--sklearn-color-background);\n",
       "  border-radius: 1em;\n",
       "  height: 1em;\n",
       "  width: 1em;\n",
       "  text-decoration: none !important;\n",
       "  margin-left: 1ex;\n",
       "  /* unfitted */\n",
       "  border: var(--sklearn-color-unfitted-level-1) 1pt solid;\n",
       "  color: var(--sklearn-color-unfitted-level-1);\n",
       "}\n",
       "\n",
       ".sk-estimator-doc-link.fitted,\n",
       "a:link.sk-estimator-doc-link.fitted,\n",
       "a:visited.sk-estimator-doc-link.fitted {\n",
       "  /* fitted */\n",
       "  border: var(--sklearn-color-fitted-level-1) 1pt solid;\n",
       "  color: var(--sklearn-color-fitted-level-1);\n",
       "}\n",
       "\n",
       "/* On hover */\n",
       "div.sk-estimator:hover .sk-estimator-doc-link:hover,\n",
       ".sk-estimator-doc-link:hover,\n",
       "div.sk-label-container:hover .sk-estimator-doc-link:hover,\n",
       ".sk-estimator-doc-link:hover {\n",
       "  /* unfitted */\n",
       "  background-color: var(--sklearn-color-unfitted-level-3);\n",
       "  color: var(--sklearn-color-background);\n",
       "  text-decoration: none;\n",
       "}\n",
       "\n",
       "div.sk-estimator.fitted:hover .sk-estimator-doc-link.fitted:hover,\n",
       ".sk-estimator-doc-link.fitted:hover,\n",
       "div.sk-label-container:hover .sk-estimator-doc-link.fitted:hover,\n",
       ".sk-estimator-doc-link.fitted:hover {\n",
       "  /* fitted */\n",
       "  background-color: var(--sklearn-color-fitted-level-3);\n",
       "  color: var(--sklearn-color-background);\n",
       "  text-decoration: none;\n",
       "}\n",
       "\n",
       "/* Span, style for the box shown on hovering the info icon */\n",
       ".sk-estimator-doc-link span {\n",
       "  display: none;\n",
       "  z-index: 9999;\n",
       "  position: relative;\n",
       "  font-weight: normal;\n",
       "  right: .2ex;\n",
       "  padding: .5ex;\n",
       "  margin: .5ex;\n",
       "  width: min-content;\n",
       "  min-width: 20ex;\n",
       "  max-width: 50ex;\n",
       "  color: var(--sklearn-color-text);\n",
       "  box-shadow: 2pt 2pt 4pt #999;\n",
       "  /* unfitted */\n",
       "  background: var(--sklearn-color-unfitted-level-0);\n",
       "  border: .5pt solid var(--sklearn-color-unfitted-level-3);\n",
       "}\n",
       "\n",
       ".sk-estimator-doc-link.fitted span {\n",
       "  /* fitted */\n",
       "  background: var(--sklearn-color-fitted-level-0);\n",
       "  border: var(--sklearn-color-fitted-level-3);\n",
       "}\n",
       "\n",
       ".sk-estimator-doc-link:hover span {\n",
       "  display: block;\n",
       "}\n",
       "\n",
       "/* \"?\"-specific style due to the `<a>` HTML tag */\n",
       "\n",
       "#sk-container-id-2 a.estimator_doc_link {\n",
       "  float: right;\n",
       "  font-size: 1rem;\n",
       "  line-height: 1em;\n",
       "  font-family: monospace;\n",
       "  background-color: var(--sklearn-color-background);\n",
       "  border-radius: 1rem;\n",
       "  height: 1rem;\n",
       "  width: 1rem;\n",
       "  text-decoration: none;\n",
       "  /* unfitted */\n",
       "  color: var(--sklearn-color-unfitted-level-1);\n",
       "  border: var(--sklearn-color-unfitted-level-1) 1pt solid;\n",
       "}\n",
       "\n",
       "#sk-container-id-2 a.estimator_doc_link.fitted {\n",
       "  /* fitted */\n",
       "  border: var(--sklearn-color-fitted-level-1) 1pt solid;\n",
       "  color: var(--sklearn-color-fitted-level-1);\n",
       "}\n",
       "\n",
       "/* On hover */\n",
       "#sk-container-id-2 a.estimator_doc_link:hover {\n",
       "  /* unfitted */\n",
       "  background-color: var(--sklearn-color-unfitted-level-3);\n",
       "  color: var(--sklearn-color-background);\n",
       "  text-decoration: none;\n",
       "}\n",
       "\n",
       "#sk-container-id-2 a.estimator_doc_link.fitted:hover {\n",
       "  /* fitted */\n",
       "  background-color: var(--sklearn-color-fitted-level-3);\n",
       "}\n",
       "</style><div id=\"sk-container-id-2\" class=\"sk-top-container\"><div class=\"sk-text-repr-fallback\"><pre>LinearRegression()</pre><b>In a Jupyter environment, please rerun this cell to show the HTML representation or trust the notebook. <br />On GitHub, the HTML representation is unable to render, please try loading this page with nbviewer.org.</b></div><div class=\"sk-container\" hidden><div class=\"sk-item\"><div class=\"sk-estimator fitted sk-toggleable\"><input class=\"sk-toggleable__control sk-hidden--visually\" id=\"sk-estimator-id-2\" type=\"checkbox\" checked><label for=\"sk-estimator-id-2\" class=\"sk-toggleable__label fitted sk-toggleable__label-arrow fitted\">&nbsp;&nbsp;LinearRegression<a class=\"sk-estimator-doc-link fitted\" rel=\"noreferrer\" target=\"_blank\" href=\"https://scikit-learn.org/1.5/modules/generated/sklearn.linear_model.LinearRegression.html\">?<span>Documentation for LinearRegression</span></a><span class=\"sk-estimator-doc-link fitted\">i<span>Fitted</span></span></label><div class=\"sk-toggleable__content fitted\"><pre>LinearRegression()</pre></div> </div></div></div></div>"
      ],
      "text/plain": [
       "LinearRegression()"
      ]
     },
     "execution_count": 25,
     "metadata": {},
     "output_type": "execute_result"
    }
   ],
   "source": [
    "regression.fit(x_train,y_train)"
   ]
  },
  {
   "cell_type": "code",
   "execution_count": 26,
   "metadata": {},
   "outputs": [
    {
     "name": "stdout",
     "output_type": "stream",
     "text": [
      "0.7152502230743587\n"
     ]
    }
   ],
   "source": [
    "from sklearn.metrics import r2_score\n",
    "score=r2_score(y_test,regression.predict(x_test))\n",
    "print(score)\n"
   ]
  },
  {
   "cell_type": "code",
   "execution_count": 27,
   "metadata": {},
   "outputs": [
    {
     "data": {
      "text/plain": [
       "Text(0, 0.5, 'y')"
      ]
     },
     "execution_count": 27,
     "metadata": {},
     "output_type": "execute_result"
    },
    {
     "data": {
      "image/png": "[encoded data removed]",
      "text/plain": [
       "<Figure size 640x480 with 1 Axes>"
      ]
     },
     "metadata": {},
     "output_type": "display_data"
    }
   ],
   "source": [
    "## lets visualise\n",
    "plt.plot(x_train,regression.predict(x_train),color=\"g\")\n",
    "plt.scatter(x_train,y_train)\n",
    "plt.xlabel(\"x dataset\")\n",
    "plt.ylabel(\"y\")\n"
   ]
  },
  {
   "cell_type": "code",
   "execution_count": 28,
   "metadata": {},
   "outputs": [],
   "source": [
    "from sklearn.preprocessing import PolynomialFeatures\n"
   ]
  },
  {
   "cell_type": "code",
   "execution_count": 29,
   "metadata": {},
   "outputs": [],
   "source": [
    "poly=PolynomialFeatures(degree=2,include_bias=True)\n",
    "x_train_poly=poly.fit_transform(x_train)\n",
    "x_test_poly=poly.transform(x_test)"
   ]
  },
  {
   "cell_type": "code",
   "execution_count": 30,
   "metadata": {},
   "outputs": [
    {
     "data": {
      "text/plain": [
       "array([[ 1.00000000e+00,  6.51900581e-01,  4.24974367e-01],\n",
       "       [ 1.00000000e+00, -1.14433450e+00,  1.30950145e+00],\n",
       "       [ 1.00000000e+00, -6.46616232e-01,  4.18112552e-01],\n",
       "       [ 1.00000000e+00, -8.00695518e-02,  6.41113313e-03],\n",
       "       [ 1.00000000e+00,  2.99498058e+00,  8.96990865e+00],\n",
       "       [ 1.00000000e+00, -2.96893337e+00,  8.81456534e+00],\n",
       "       [ 1.00000000e+00, -1.43955789e+00,  2.07232693e+00],\n",
       "       [ 1.00000000e+00,  2.88922891e+00,  8.34764370e+00],\n",
       "       [ 1.00000000e+00,  7.15012374e-01,  5.11242695e-01],\n",
       "       [ 1.00000000e+00, -2.42693973e+00,  5.89003647e+00],\n",
       "       [ 1.00000000e+00,  1.19578994e-01,  1.42991359e-02],\n",
       "       [ 1.00000000e+00,  2.15054210e+00,  4.62483134e+00],\n",
       "       [ 1.00000000e+00, -7.31781214e-02,  5.35503745e-03],\n",
       "       [ 1.00000000e+00, -4.71326049e-01,  2.22148245e-01],\n",
       "       [ 1.00000000e+00, -2.67746332e+00,  7.16880982e+00],\n",
       "       [ 1.00000000e+00, -1.93668929e+00,  3.75076540e+00],\n",
       "       [ 1.00000000e+00, -2.01887423e+00,  4.07585317e+00],\n",
       "       [ 1.00000000e+00, -1.72955740e+00,  2.99136881e+00],\n",
       "       [ 1.00000000e+00,  5.85443080e-01,  3.42743600e-01],\n",
       "       [ 1.00000000e+00, -6.87711797e-01,  4.72947516e-01],\n",
       "       [ 1.00000000e+00,  2.18449042e-01,  4.77199838e-02],\n",
       "       [ 1.00000000e+00,  2.91501385e+00,  8.49730574e+00],\n",
       "       [ 1.00000000e+00,  2.50742537e+00,  6.28718200e+00],\n",
       "       [ 1.00000000e+00, -1.16024474e-01,  1.34616786e-02],\n",
       "       [ 1.00000000e+00, -4.87675070e-01,  2.37826974e-01],\n",
       "       [ 1.00000000e+00, -2.82809079e+00,  7.99809749e+00],\n",
       "       [ 1.00000000e+00,  1.42182652e+00,  2.02159065e+00],\n",
       "       [ 1.00000000e+00, -3.40343724e-01,  1.15833851e-01],\n",
       "       [ 1.00000000e+00,  1.65317428e+00,  2.73298519e+00],\n",
       "       [ 1.00000000e+00, -8.44455463e-01,  7.13105029e-01],\n",
       "       [ 1.00000000e+00,  2.34586603e+00,  5.50308744e+00],\n",
       "       [ 1.00000000e+00, -2.82219239e+00,  7.96476989e+00],\n",
       "       [ 1.00000000e+00, -5.26985915e-01,  2.77714155e-01],\n",
       "       [ 1.00000000e+00, -6.78114983e-01,  4.59839930e-01],\n",
       "       [ 1.00000000e+00,  1.66164791e+00,  2.76107379e+00],\n",
       "       [ 1.00000000e+00, -1.41854109e-01,  2.01225882e-02],\n",
       "       [ 1.00000000e+00,  2.77780217e+00,  7.71618492e+00],\n",
       "       [ 1.00000000e+00,  2.79243495e+00,  7.79769297e+00],\n",
       "       [ 1.00000000e+00,  2.65970577e+00,  7.07403479e+00],\n",
       "       [ 1.00000000e+00,  4.14348125e-01,  1.71684369e-01],\n",
       "       [ 1.00000000e+00, -6.96413610e-01,  4.84991916e-01],\n",
       "       [ 1.00000000e+00,  1.83939422e+00,  3.38337110e+00],\n",
       "       [ 1.00000000e+00, -4.14433475e-01,  1.71755105e-01],\n",
       "       [ 1.00000000e+00, -2.51769440e+00,  6.33878507e+00],\n",
       "       [ 1.00000000e+00,  2.59282856e+00,  6.72275995e+00],\n",
       "       [ 1.00000000e+00,  1.59810879e+00,  2.55395171e+00],\n",
       "       [ 1.00000000e+00, -1.50588654e+00,  2.26769428e+00],\n",
       "       [ 1.00000000e+00, -1.13604619e+00,  1.29060094e+00],\n",
       "       [ 1.00000000e+00,  3.11851247e-01,  9.72512006e-02],\n",
       "       [ 1.00000000e+00, -1.53865823e+00,  2.36746915e+00]])"
      ]
     },
     "execution_count": 30,
     "metadata": {},
     "output_type": "execute_result"
    }
   ],
   "source": [
    "x_train_poly"
   ]
  },
  {
   "cell_type": "code",
   "execution_count": 31,
   "metadata": {},
   "outputs": [
    {
     "data": {
      "text/plain": [
       "array([[ 1.00000000e+00,  2.01074310e+00,  4.04308782e+00],\n",
       "       [ 1.00000000e+00,  2.85005340e+00,  8.12280436e+00],\n",
       "       [ 1.00000000e+00, -1.59865053e+00,  2.55568352e+00],\n",
       "       [ 1.00000000e+00, -8.56057826e-02,  7.32835002e-03],\n",
       "       [ 1.00000000e+00,  2.11996455e+00,  4.49424971e+00],\n",
       "       [ 1.00000000e+00,  1.12407839e+00,  1.26355224e+00],\n",
       "       [ 1.00000000e+00,  2.83730312e+00,  8.05028900e+00],\n",
       "       [ 1.00000000e+00, -1.55275475e+00,  2.41104731e+00],\n",
       "       [ 1.00000000e+00, -2.24654105e+00,  5.04694668e+00],\n",
       "       [ 1.00000000e+00, -1.70404929e+00,  2.90378397e+00],\n",
       "       [ 1.00000000e+00,  2.75661709e+00,  7.59893776e+00],\n",
       "       [ 1.00000000e+00, -2.61146602e+00,  6.81975478e+00],\n",
       "       [ 1.00000000e+00,  3.84735982e-01,  1.48021776e-01],\n",
       "       [ 1.00000000e+00,  2.00950234e+00,  4.03809965e+00],\n",
       "       [ 1.00000000e+00,  2.20928837e+00,  4.88095509e+00],\n",
       "       [ 1.00000000e+00, -2.74538206e+00,  7.53712265e+00],\n",
       "       [ 1.00000000e+00,  7.62478240e-01,  5.81373067e-01],\n",
       "       [ 1.00000000e+00,  2.82740486e+00,  7.99421823e+00],\n",
       "       [ 1.00000000e+00,  1.33352063e+00,  1.77827727e+00],\n",
       "       [ 1.00000000e+00, -7.13748239e-01,  5.09436548e-01],\n",
       "       [ 1.00000000e+00, -2.03260680e-01,  4.13149039e-02],\n",
       "       [ 1.00000000e+00,  2.83868613e+00,  8.05813895e+00],\n",
       "       [ 1.00000000e+00, -8.77285720e-01,  7.69630235e-01],\n",
       "       [ 1.00000000e+00, -2.27726400e+00,  5.18593132e+00],\n",
       "       [ 1.00000000e+00, -1.11585925e+00,  1.24514187e+00],\n",
       "       [ 1.00000000e+00, -1.28311711e+00,  1.64638951e+00],\n",
       "       [ 1.00000000e+00,  2.90799283e+00,  8.45642230e+00],\n",
       "       [ 1.00000000e+00, -9.16805216e-01,  8.40531804e-01],\n",
       "       [ 1.00000000e+00,  2.57650919e+00,  6.63839959e+00],\n",
       "       [ 1.00000000e+00,  1.00972384e+00,  1.01954224e+00],\n",
       "       [ 1.00000000e+00, -1.60010263e+00,  2.56032841e+00],\n",
       "       [ 1.00000000e+00, -7.20616770e-01,  5.19288529e-01],\n",
       "       [ 1.00000000e+00,  1.78153604e+00,  3.17387067e+00],\n",
       "       [ 1.00000000e+00, -1.42461984e+00,  2.02954170e+00],\n",
       "       [ 1.00000000e+00, -1.79244094e+00,  3.21284454e+00],\n",
       "       [ 1.00000000e+00, -7.79079289e-01,  6.06964539e-01],\n",
       "       [ 1.00000000e+00,  2.74935395e+00,  7.55894712e+00],\n",
       "       [ 1.00000000e+00, -7.39498602e-01,  5.46858183e-01],\n",
       "       [ 1.00000000e+00, -6.75338752e-01,  4.56082430e-01],\n",
       "       [ 1.00000000e+00,  1.26780230e+00,  1.60732266e+00],\n",
       "       [ 1.00000000e+00, -1.30561302e+00,  1.70462535e+00],\n",
       "       [ 1.00000000e+00,  2.49197458e-01,  6.20993732e-02],\n",
       "       [ 1.00000000e+00, -2.99052490e+00,  8.94323918e+00],\n",
       "       [ 1.00000000e+00,  5.20420505e-01,  2.70837502e-01],\n",
       "       [ 1.00000000e+00, -1.89871670e+00,  3.60512512e+00],\n",
       "       [ 1.00000000e+00,  2.10293562e+00,  4.42233824e+00],\n",
       "       [ 1.00000000e+00, -1.15852967e+00,  1.34219099e+00],\n",
       "       [ 1.00000000e+00, -1.91209639e-01,  3.65611261e-02],\n",
       "       [ 1.00000000e+00, -1.46793304e+00,  2.15482742e+00],\n",
       "       [ 1.00000000e+00, -1.27353718e+00,  1.62189694e+00]])"
      ]
     },
     "execution_count": 31,
     "metadata": {},
     "output_type": "execute_result"
    }
   ],
   "source": [
    "x_test_poly"
   ]
  },
  {
   "cell_type": "code",
   "execution_count": 34,
   "metadata": {},
   "outputs": [
    {
     "name": "stdout",
     "output_type": "stream",
     "text": [
      "0.8998725337585105\n"
     ]
    }
   ],
   "source": [
    "from sklearn.metrics import r2_score\n",
    "regression=LinearRegression()\n",
    "regression.fit(x_train_poly,y_train)\n",
    "y_pred=regression.predict(x_test_poly)\n",
    "score=r2_score(y_test,y_pred)\n",
    "print(score)"
   ]
  },
  {
   "cell_type": "code",
   "execution_count": 35,
   "metadata": {},
   "outputs": [
    {
     "name": "stdout",
     "output_type": "stream",
     "text": [
      "[[0.         1.36713833 0.44439776]]\n"
     ]
    }
   ],
   "source": [
    "print(regression.coef_)"
   ]
  },
  {
   "cell_type": "code",
   "execution_count": 36,
   "metadata": {},
   "outputs": [
    {
     "name": "stdout",
     "output_type": "stream",
     "text": [
      "[2.26275149]\n"
     ]
    }
   ],
   "source": [
    "print(regression.intercept_)"
   ]
  },
  {
   "cell_type": "code",
   "execution_count": 38,
   "metadata": {},
   "outputs": [
    {
     "data": {
      "text/plain": [
       "<matplotlib.collections.PathCollection at 0x1e87fed0760>"
      ]
     },
     "execution_count": 38,
     "metadata": {},
     "output_type": "execute_result"
    },
    {
     "data": {
      "image/png": "[encoded data removed]",
      "text/plain": [
       "<Figure size 640x480 with 1 Axes>"
      ]
     },
     "metadata": {},
     "output_type": "display_data"
    }
   ],
   "source": [
    "plt.scatter(x_train,regression.predict(x_train_poly))\n",
    "plt.scatter(x_train,y_train)"
   ]
  },
  {
   "cell_type": "code",
   "execution_count": 39,
   "metadata": {},
   "outputs": [],
   "source": [
    "poly=PolynomialFeatures(degree=3,include_bias=True)\n",
    "x_train_poly=poly.fit_transform(x_train)\n",
    "x_test_poly=poly.transform(x_test)"
   ]
  },
  {
   "cell_type": "code",
   "execution_count": 40,
   "metadata": {},
   "outputs": [
    {
     "data": {
      "text/plain": [
       "array([[ 1.00000000e+00,  6.51900581e-01,  4.24974367e-01,\n",
       "         2.77041037e-01],\n",
       "       [ 1.00000000e+00, -1.14433450e+00,  1.30950145e+00,\n",
       "        -1.49850769e+00],\n",
       "       [ 1.00000000e+00, -6.46616232e-01,  4.18112552e-01,\n",
       "        -2.70358363e-01],\n",
       "       [ 1.00000000e+00, -8.00695518e-02,  6.41113313e-03,\n",
       "        -5.13336556e-04],\n",
       "       [ 1.00000000e+00,  2.99498058e+00,  8.96990865e+00,\n",
       "         2.68647022e+01],\n",
       "       [ 1.00000000e+00, -2.96893337e+00,  8.81456534e+00,\n",
       "        -2.61698571e+01],\n",
       "       [ 1.00000000e+00, -1.43955789e+00,  2.07232693e+00,\n",
       "        -2.98323459e+00],\n",
       "       [ 1.00000000e+00,  2.88922891e+00,  8.34764370e+00,\n",
       "         2.41182535e+01],\n",
       "       [ 1.00000000e+00,  7.15012374e-01,  5.11242695e-01,\n",
       "         3.65544853e-01],\n",
       "       [ 1.00000000e+00, -2.42693973e+00,  5.89003647e+00,\n",
       "        -1.42947635e+01],\n",
       "       [ 1.00000000e+00,  1.19578994e-01,  1.42991359e-02,\n",
       "         1.70987628e-03],\n",
       "       [ 1.00000000e+00,  2.15054210e+00,  4.62483134e+00,\n",
       "         9.94589451e+00],\n",
       "       [ 1.00000000e+00, -7.31781214e-02,  5.35503745e-03,\n",
       "        -3.91871581e-04],\n",
       "       [ 1.00000000e+00, -4.71326049e-01,  2.22148245e-01,\n",
       "        -1.04704255e-01],\n",
       "       [ 1.00000000e+00, -2.67746332e+00,  7.16880982e+00,\n",
       "        -1.91942253e+01],\n",
       "       [ 1.00000000e+00, -1.93668929e+00,  3.75076540e+00,\n",
       "        -7.26406716e+00],\n",
       "       [ 1.00000000e+00, -2.01887423e+00,  4.07585317e+00,\n",
       "        -8.22863494e+00],\n",
       "       [ 1.00000000e+00, -1.72955740e+00,  2.99136881e+00,\n",
       "        -5.17374408e+00],\n",
       "       [ 1.00000000e+00,  5.85443080e-01,  3.42743600e-01,\n",
       "         2.00656869e-01],\n",
       "       [ 1.00000000e+00, -6.87711797e-01,  4.72947516e-01,\n",
       "        -3.25251586e-01],\n",
       "       [ 1.00000000e+00,  2.18449042e-01,  4.77199838e-02,\n",
       "         1.04243847e-02],\n",
       "       [ 1.00000000e+00,  2.91501385e+00,  8.49730574e+00,\n",
       "         2.47697639e+01],\n",
       "       [ 1.00000000e+00,  2.50742537e+00,  6.28718200e+00,\n",
       "         1.57646397e+01],\n",
       "       [ 1.00000000e+00, -1.16024474e-01,  1.34616786e-02,\n",
       "        -1.56188418e-03],\n",
       "       [ 1.00000000e+00, -4.87675070e-01,  2.37826974e-01,\n",
       "        -1.15982286e-01],\n",
       "       [ 1.00000000e+00, -2.82809079e+00,  7.99809749e+00,\n",
       "        -2.26193458e+01],\n",
       "       [ 1.00000000e+00,  1.42182652e+00,  2.02159065e+00,\n",
       "         2.87435119e+00],\n",
       "       [ 1.00000000e+00, -3.40343724e-01,  1.15833851e-01,\n",
       "        -3.94233242e-02],\n",
       "       [ 1.00000000e+00,  1.65317428e+00,  2.73298519e+00,\n",
       "         4.51810081e+00],\n",
       "       [ 1.00000000e+00, -8.44455463e-01,  7.13105029e-01,\n",
       "        -6.02185437e-01],\n",
       "       [ 1.00000000e+00,  2.34586603e+00,  5.50308744e+00,\n",
       "         1.29095059e+01],\n",
       "       [ 1.00000000e+00, -2.82219239e+00,  7.96476989e+00,\n",
       "        -2.24781130e+01],\n",
       "       [ 1.00000000e+00, -5.26985915e-01,  2.77714155e-01,\n",
       "        -1.46351448e-01],\n",
       "       [ 1.00000000e+00, -6.78114983e-01,  4.59839930e-01,\n",
       "        -3.11824346e-01],\n",
       "       [ 1.00000000e+00,  1.66164791e+00,  2.76107379e+00,\n",
       "         4.58793250e+00],\n",
       "       [ 1.00000000e+00, -1.41854109e-01,  2.01225882e-02,\n",
       "        -2.85447182e-03],\n",
       "       [ 1.00000000e+00,  2.77780217e+00,  7.71618492e+00,\n",
       "         2.14340352e+01],\n",
       "       [ 1.00000000e+00,  2.79243495e+00,  7.79769297e+00,\n",
       "         2.17745504e+01],\n",
       "       [ 1.00000000e+00,  2.65970577e+00,  7.07403479e+00,\n",
       "         1.88148512e+01],\n",
       "       [ 1.00000000e+00,  4.14348125e-01,  1.71684369e-01,\n",
       "         7.11370965e-02],\n",
       "       [ 1.00000000e+00, -6.96413610e-01,  4.84991916e-01,\n",
       "        -3.37754971e-01],\n",
       "       [ 1.00000000e+00,  1.83939422e+00,  3.38337110e+00,\n",
       "         6.22335325e+00],\n",
       "       [ 1.00000000e+00, -4.14433475e-01,  1.71755105e-01,\n",
       "        -7.11810652e-02],\n",
       "       [ 1.00000000e+00, -2.51769440e+00,  6.33878507e+00,\n",
       "        -1.59591236e+01],\n",
       "       [ 1.00000000e+00,  2.59282856e+00,  6.72275995e+00,\n",
       "         1.74309640e+01],\n",
       "       [ 1.00000000e+00,  1.59810879e+00,  2.55395171e+00,\n",
       "         4.08149268e+00],\n",
       "       [ 1.00000000e+00, -1.50588654e+00,  2.26769428e+00,\n",
       "        -3.41489029e+00],\n",
       "       [ 1.00000000e+00, -1.13604619e+00,  1.29060094e+00,\n",
       "        -1.46618227e+00],\n",
       "       [ 1.00000000e+00,  3.11851247e-01,  9.72512006e-02,\n",
       "         3.03279082e-02],\n",
       "       [ 1.00000000e+00, -1.53865823e+00,  2.36746915e+00,\n",
       "        -3.64272590e+00]])"
      ]
     },
     "execution_count": 40,
     "metadata": {},
     "output_type": "execute_result"
    }
   ],
   "source": [
    "x_train_poly"
   ]
  },
  {
   "cell_type": "code",
   "execution_count": 41,
   "metadata": {},
   "outputs": [
    {
     "name": "stdout",
     "output_type": "stream",
     "text": [
      "0.9008294358516147\n"
     ]
    }
   ],
   "source": [
    "from sklearn.metrics import r2_score\n",
    "regression=LinearRegression()\n",
    "regression.fit(x_train_poly,y_train)\n",
    "y_pred=regression.predict(x_test_poly)\n",
    "score=r2_score(y_test,y_pred)\n",
    "print(score)"
   ]
  },
  {
   "cell_type": "code",
   "execution_count": null,
   "metadata": {},
   "outputs": [],
   "source": []
  },
  {
   "cell_type": "code",
   "execution_count": null,
   "metadata": {},
   "outputs": [],
   "source": [
    "#3 Prediction of new data set\n",
    "X_new = np.linspace(-3, 3, 200).reshape(200, 1)\n",
    "X_new_poly = poly.transform(X_new)\n",
    "X_new_poly"
   ]
  },
  {
   "cell_type": "code",
   "execution_count": 45,
   "metadata": {},
   "outputs": [
    {
     "data": {
      "image/png": "[encoded data removed]",
      "text/plain": [
       "<Figure size 640x480 with 1 Axes>"
      ]
     },
     "metadata": {},
     "output_type": "display_data"
    }
   ],
   "source": [
    "## prediction\n",
    "y_new = regression.predict(X_new_poly)\n",
    "plt.plot(X_new, y_new, \"r-\", linewidth=2, label=\" New Predictions\")\n",
    "plt.plot(x_train, y_train, \"b.\",label='Training points')\n",
    "plt.plot(x_test, y_test, \"g.\",label='Testing points')\n",
    "plt.xlabel(\"X\")\n",
    "plt.ylabel(\"y\")\n",
    "plt.legend()\n",
    "plt.show()"
   ]
  },
  {
   "cell_type": "code",
   "execution_count": null,
   "metadata": {},
   "outputs": [],
   "source": []
  }
 ],
 "metadata": {
  "kernelspec": {
   "display_name": "Python 3",
   "language": "python",
   "name": "python3"
  },
  "language_info": {
   "codemirror_mode": {
    "name": "ipython",
    "version": 3
   },
   "file_extension": ".py",
   "mimetype": "text/x-python",
   "name": "python",
   "nbconvert_exporter": "python",
   "pygments_lexer": "ipython3",
   "version": "3.10.14"
  }
 },
 "nbformat": 4,
 "nbformat_minor": 2
}
